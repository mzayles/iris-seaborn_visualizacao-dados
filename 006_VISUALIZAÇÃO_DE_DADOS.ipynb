{
  "cells": [
    {
      "cell_type": "markdown",
      "metadata": {
        "id": "kmlTpURGXH5H"
      },
      "source": [
        "# **VISUALIZAÇÃO DE DADOS**"
      ]
    },
    {
      "cell_type": "code",
      "execution_count": null,
      "metadata": {
        "id": "hEZZWtGQXAbn"
      },
      "outputs": [],
      "source": [
        "\"\"\"\n",
        "    Matplotlib site oficial: https://matplotlib.org\n",
        "    Seaborn site oficial: https://seaborn.pydata.org\n",
        "\"\"\""
      ]
    },
    {
      "cell_type": "code",
      "execution_count": null,
      "metadata": {
        "id": "By7zsrD-YBm0"
      },
      "outputs": [],
      "source": [
        "import pandas as pd\n",
        "import matplotlib.pyplot as plt\n",
        "import seaborn as sns"
      ]
    },
    {
      "cell_type": "code",
      "source": [
        "# base de dados online\n",
        "sns.get_dataset_names()"
      ],
      "metadata": {
        "id": "YGTz_787Y1JT"
      },
      "execution_count": null,
      "outputs": []
    },
    {
      "cell_type": "code",
      "source": [
        "df = sns.load_dataset('iris')"
      ],
      "metadata": {
        "id": "_sgp3IJVZe-p"
      },
      "execution_count": null,
      "outputs": []
    },
    {
      "cell_type": "code",
      "source": [
        "# 150 linhas, 5 colunas\n",
        "df.shape"
      ],
      "metadata": {
        "id": "REM1spZkZz6o"
      },
      "execution_count": null,
      "outputs": []
    },
    {
      "cell_type": "code",
      "source": [
        "df.info()"
      ],
      "metadata": {
        "id": "mIIvqKo7ZtV5"
      },
      "execution_count": null,
      "outputs": []
    },
    {
      "cell_type": "code",
      "source": [
        "# acessar todas as espécies (valores únicos)\n",
        "df.species.unique()"
      ],
      "metadata": {
        "id": "MG9JihNFaH1Y"
      },
      "execution_count": null,
      "outputs": []
    },
    {
      "cell_type": "code",
      "source": [
        "# gráfico de linhas - afirmações sobre a largura da petála e sua categoria\n",
        "# ex. vendas por mês > linha do tempo\n",
        "\n",
        "plt.figure(figsize=(15, 5))\n",
        "plt.plot(df.index, df.petal_width, color='skyblue')\n",
        "plt.title('Largura da Petála por Espécie')\n",
        "plt.xlabel('Índice')\n",
        "plt.ylabel('Largura (cm)')\n",
        "plt.legend(['Largura da Pétala'])"
      ],
      "metadata": {
        "id": "AYWmVLFebavO"
      },
      "execution_count": null,
      "outputs": []
    },
    {
      "cell_type": "code",
      "source": [
        "# gráfico de linhas - 2 linhas\n",
        "\n",
        "plt.figure(figsize=(12, 5))\n",
        "plt.plot(df.index, df.petal_length, color='skyblue')\n",
        "plt.plot(df.index, df.petal_width, color='pink', linewidth=1.8, ls='--')\n",
        "plt.legend(['Comprimento', 'Largura'])"
      ],
      "metadata": {
        "id": "FzjVUu8wfgBX"
      },
      "execution_count": null,
      "outputs": []
    },
    {
      "cell_type": "code",
      "source": [
        "# gráfico de barras verticais\n",
        "# ranking de coisas, ex. loja, vendedor, produto\n",
        "\n",
        "plt.figure(figsize=(8, 6))\n",
        "plt.barh(width=df.index, y=df.species, color='lightgreen');\n",
        "plt.title('Quantidade de Espécies')\n",
        "plt.legend(['Espécies'])\n",
        "plt.xlabel('Quantidade')\n",
        "plt.ylabel('Espécie')"
      ],
      "metadata": {
        "id": "dH7qDMkoiPvy"
      },
      "execution_count": null,
      "outputs": []
    },
    {
      "cell_type": "code",
      "source": [
        "# gráfico de barras horizontais\n",
        "sns.barplot(data=df, x='petal_width', y=df.species)"
      ],
      "metadata": {
        "id": "oJq1Q7VFkB0v"
      },
      "execution_count": null,
      "outputs": []
    },
    {
      "cell_type": "code",
      "source": [
        "# gráfico de pizza\n",
        "\n",
        "df_contagem = df.species.value_counts()\n",
        "df_contagem"
      ],
      "metadata": {
        "id": "hlaA4Q72maOz"
      },
      "execution_count": null,
      "outputs": []
    },
    {
      "cell_type": "code",
      "source": [
        "plt.figure(figsize=(7, 15))\n",
        "plt.pie(df_contagem, labels=df_contagem.values, explode=[0.1 , 0, 0]);\n",
        "plt.legend(df_contagem.index)\n",
        "plt.title('Gráfico de Pizza');"
      ],
      "metadata": {
        "id": "ZVV0XJ0pmm7i"
      },
      "execution_count": null,
      "outputs": []
    },
    {
      "cell_type": "code",
      "source": [
        "# mensurar vendas ficticias"
      ],
      "metadata": {
        "id": "Yf7x2HdvoU9f"
      },
      "execution_count": null,
      "outputs": []
    },
    {
      "cell_type": "code",
      "source": [
        "# gráfico de dispersão\n",
        "plt.scatter(x=df.petal_length, y=df.petal_width, color='skyblue');"
      ],
      "metadata": {
        "id": "LvIh4kuOpTeF"
      },
      "execution_count": null,
      "outputs": []
    }
  ],
  "metadata": {
    "colab": {
      "provenance": []
    },
    "kernelspec": {
      "display_name": "Python 3",
      "name": "python3"
    },
    "language_info": {
      "name": "python"
    }
  },
  "nbformat": 4,
  "nbformat_minor": 0
}